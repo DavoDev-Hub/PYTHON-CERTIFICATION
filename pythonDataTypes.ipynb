{
 "cells": [
  {
   "cell_type": "markdown",
   "metadata": {},
   "source": [
    "# 2. Python Data Types"
   ]
  },
  {
   "cell_type": "markdown",
   "metadata": {},
   "source": [
    "## 2.1 Numeric: int, float, complex\n",
    "### Number Data Type in Python\n",
    "Python supports integers, floating-point numbers and complex numbers.\n",
    "Integers and floating points are separated by the presence or absence of a decimal point.\n",
    "Complex numbers are written in the form, x + yj, where x is the real part and y is the imaginary part\n",
    "Integers can be of any length, a floating-point number is accurate only up to 15 decimal places (the 16th place is inaccurate)"
   ]
  },
  {
   "cell_type": "code",
   "execution_count": null,
   "metadata": {},
   "outputs": [],
   "source": [
    "a = 5\n",
    "print(type(a))"
   ]
  },
  {
   "cell_type": "code",
   "execution_count": null,
   "metadata": {},
   "outputs": [],
   "source": [
    "a = 5.0\n",
    "print(type(a))"
   ]
  },
  {
   "cell_type": "code",
   "execution_count": null,
   "metadata": {},
   "outputs": [],
   "source": [
    "a = 5 + 6j\n",
    "print(a + 6)\n",
    "print(type(a))"
   ]
  },
  {
   "cell_type": "markdown",
   "metadata": {},
   "source": [
    "## 2.2 Text:str\n",
    "### 2.2.1 String\n",
    "In Python, a string is a sequence of Unicode characters. Unicode was introduced toinclude every character in all languages and bring uniformity in encoding. YOu can learn about Unicode From Python Unicode.\n",
    "\n",
    "Strings can be created by enclosing characters inside a single quote or double-quotes. Even triple quotes can be used in Python but generally used to represent multiline strings and docstrings.\n"
   ]
  },
  {
   "cell_type": "code",
   "execution_count": null,
   "metadata": {},
   "outputs": [],
   "source": [
    "# create a string\n",
    "s1 = \"hi\"\n",
    "s2 = 'hi' # in a single quote or double quote, it is the same\n",
    "s3 = \"\"\"hi\"\"\" # multiple lines\n",
    "s4 = '''\n",
    "hi''' # multiple lines\n",
    "\n",
    "print(s1)\n",
    "print(s2)\n",
    "print(s3)\n",
    "print(s4)\n",
    "print(type(s1))\n",
    "print(type(s2))\n",
    "print(type(s3))\n",
    "print(type(s4))\n"
   ]
  },
  {
   "cell_type": "markdown",
   "metadata": {},
   "source": [
    "## 2.2.2 Escape Sequence\n",
    "To insert characters that are illegal in a string, use an escape character.\n",
    "\n",
    "An escape character i sa backslash followed by the character you want to insert\n",
    "\n",
    "An escape sequence starts with a backslash and is interpreted differently. If we use a single quote to represent a string, all the single quotes inside the string must be escaped. Similar is the case with double quotes.\n"
   ]
  },
  {
   "cell_type": "code",
   "execution_count": null,
   "metadata": {},
   "outputs": [],
   "source": [
    "# to show the Double quote\n",
    "s = \"python\\\"\"\n",
    "print(s)"
   ]
  },
  {
   "cell_type": "code",
   "execution_count": null,
   "metadata": {},
   "outputs": [],
   "source": [
    "# to show the backslash\n",
    "s = \"python\\\\\"\n",
    "print(s)"
   ]
  },
  {
   "cell_type": "code",
   "execution_count": null,
   "metadata": {},
   "outputs": [],
   "source": [
    "# to start a new line\n",
    "s = \"python\\n\"\n",
    "print(s)"
   ]
  },
  {
   "cell_type": "markdown",
   "metadata": {},
   "source": [
    "## 2.2.3 Raw String\n",
    "Sometimes we may wish to ignore the escape sequences inside a string. To do this we can place r or R in front of the string.\n",
    "This will imply that it is a raw string and any escape sequence inside it will be ignored.\n"
   ]
  },
  {
   "cell_type": "code",
   "execution_count": null,
   "metadata": {},
   "outputs": [],
   "source": [
    "s = r\"C:\\abc\\def\\ghi\\jkl.txt\"\n",
    "print(s)"
   ]
  },
  {
   "cell_type": "markdown",
   "metadata": {},
   "source": [
    "## 2.2.4 Acces Characters in a String\n",
    "We can access individual characters using indexing and a range of characters using slicing. Index starts from 0. Trying to access a character out of index range will raise an IndexError. The index must be an integer. We can't use floats or other types, this will result into TypeError.\n",
    "\n",
    "Python allows negative indexing for its sequences.\n",
    "\n",
    "The indexc of -1 refers to the last item, -2 to the second last item and so on. We can acces a range of items in a string by using the slicin operator :(colon)"
   ]
  },
  {
   "cell_type": "code",
   "execution_count": null,
   "metadata": {},
   "outputs": [],
   "source": [
    "s = \"python\"\n",
    "s[0]"
   ]
  },
  {
   "cell_type": "code",
   "execution_count": null,
   "metadata": {},
   "outputs": [],
   "source": [
    "s[1]"
   ]
  },
  {
   "cell_type": "code",
   "execution_count": null,
   "metadata": {},
   "outputs": [],
   "source": [
    "s[-1]"
   ]
  },
  {
   "cell_type": "code",
   "execution_count": null,
   "metadata": {},
   "outputs": [],
   "source": [
    "s[99]"
   ]
  },
  {
   "cell_type": "code",
   "execution_count": null,
   "metadata": {},
   "outputs": [],
   "source": [
    "s[1.0]"
   ]
  },
  {
   "cell_type": "code",
   "execution_count": null,
   "metadata": {},
   "outputs": [],
   "source": [
    "\n",
    "s[0:3]"
   ]
  },
  {
   "cell_type": "code",
   "execution_count": null,
   "metadata": {},
   "outputs": [],
   "source": [
    "s[0:4:2]"
   ]
  },
  {
   "cell_type": "code",
   "execution_count": null,
   "metadata": {},
   "outputs": [],
   "source": [
    "# unchangeable\n",
    "s[0] = \"P\""
   ]
  },
  {
   "cell_type": "markdown",
   "metadata": {},
   "source": [
    "## 2.2.5 String Operations\n",
    "There are many operations that can be performed with strings which makes it one of the most used data types in Python.\n",
    "\n",
    "Joining of two or more strings into a single is called concatenation. The + operator does this in Python.\n",
    "\n",
    "The * operator can be used to repeatr the string for a given number of times."
   ]
  },
  {
   "cell_type": "code",
   "execution_count": null,
   "metadata": {},
   "outputs": [],
   "source": [
    "# + operator\n",
    "s1 = \"hello\"\n",
    "s2 = \"world\"\n",
    "print(s1 + s2)"
   ]
  },
  {
   "cell_type": "code",
   "execution_count": null,
   "metadata": {},
   "outputs": [],
   "source": [
    "# * operator \n",
    "s = \"hello\"\n",
    "print(s * 3)"
   ]
  },
  {
   "cell_type": "markdown",
   "metadata": {},
   "source": [
    "## 2.2.6 Common Python String Methods\n",
    "There are numerous mehtods lower(), upper(),join(), split(), find(), replace() etc."
   ]
  },
  {
   "cell_type": "code",
   "execution_count": 11,
   "metadata": {},
   "outputs": [
    {
     "name": "stdout",
     "output_type": "stream",
     "text": [
      "['hello', 'world']\n"
     ]
    }
   ],
   "source": [
    "# split\n",
    "# str.split(str1) : split a string by str1\n",
    "s = \"hello world\"\n",
    "print(s.split(\" \"))"
   ]
  },
  {
   "cell_type": "code",
   "execution_count": null,
   "metadata": {},
   "outputs": [],
   "source": [
    "# replace\n",
    "# str.replace(str1, str2) : replace str1 with str2\n",
    "s = \"hello world\"\n",
    "print(s.replace(\"world\", \"python\"))"
   ]
  },
  {
   "cell_type": "code",
   "execution_count": null,
   "metadata": {},
   "outputs": [],
   "source": [
    "# lower and upper\n",
    "s = \"Hello World\"\n",
    "print(s.lower())\n",
    "print(s.upper())"
   ]
  },
  {
   "cell_type": "code",
   "execution_count": null,
   "metadata": {},
   "outputs": [],
   "source": [
    "# join\n",
    "# str.join(list) : join a list with str\n",
    "s = \" \"\n",
    "print(s.join([\"hello\", \"world\"]))\n",
    "print(\" \".join([\"hello\", \"world\"]))\n",
    "print(\"\".join([\"hello\", \"world\"]))\n",
    "print(\"\".join([\"hello\", \"world\"]))\n",
    "print(\"\".join([\"hello\", \"world\"]))"
   ]
  },
  {
   "cell_type": "markdown",
   "metadata": {},
   "source": [
    "### 2.2.7 String formatting"
   ]
  },
  {
   "cell_type": "code",
   "execution_count": null,
   "metadata": {},
   "outputs": [],
   "source": [
    "# swith %s and %d with AI and 63\n",
    "'my name is %s, I am %d years old' % ('AI', 63)"
   ]
  },
  {
   "cell_type": "markdown",
   "metadata": {},
   "source": [
    "## 2.3 List\n",
    "Lis are mutable sequences, typically used to store collections of homogeneaous items.\n",
    "List = [obj1, obj2, ...]\n"
   ]
  },
  {
   "cell_type": "code",
   "execution_count": null,
   "metadata": {},
   "outputs": [],
   "source": [
    "l = [1 ,2, 3]\n",
    "print(l)"
   ]
  },
  {
   "cell_type": "code",
   "execution_count": null,
   "metadata": {},
   "outputs": [],
   "source": [
    "# access item in a list\n",
    "l = [1 ,2, 3]\n",
    "print(l[1])\n",
    "print(l[0:2])\n",
    "print(l[0:3:2])"
   ]
  },
  {
   "cell_type": "code",
   "execution_count": null,
   "metadata": {},
   "outputs": [],
   "source": [
    "# change item in a list\n",
    "l[1] = 0\n",
    "print(l)"
   ]
  },
  {
   "cell_type": "markdown",
   "metadata": {},
   "source": [
    "## 2.3.1 List Operators\n",
    "Same as string operators"
   ]
  },
  {
   "cell_type": "code",
   "execution_count": null,
   "metadata": {},
   "outputs": [],
   "source": [
    "a = [1, 2, 3]\n",
    "b = [4, 5]"
   ]
  },
  {
   "cell_type": "code",
   "execution_count": null,
   "metadata": {},
   "outputs": [],
   "source": [
    "a = [1, 2, 3]\n",
    "b = [4, 5]\n",
    "# * operator\n",
    "print(a * 3)\n",
    "# + operator\n",
    "print(a + b)"
   ]
  },
  {
   "cell_type": "markdown",
   "metadata": {},
   "source": [
    "## 2.3.2 List Methods\n"
   ]
  },
  {
   "cell_type": "code",
   "execution_count": null,
   "metadata": {},
   "outputs": [],
   "source": [
    "animals = ['cat', 'dog', 'monkey']\n",
    "#list.append(item) : add an item to the end of the list\n",
    "animals.append('fish')\n",
    "print(animals)"
   ]
  },
  {
   "cell_type": "code",
   "execution_count": null,
   "metadata": {},
   "outputs": [],
   "source": [
    "#list.remove(item) : remove an item from the list\n",
    "animals.remove('dog')\n",
    "print(animals)"
   ]
  },
  {
   "cell_type": "code",
   "execution_count": null,
   "metadata": {},
   "outputs": [],
   "source": [
    "#list.insert(index, item) : insert an item to the list at the index\n",
    "animals.insert(1, 'elephant')\n",
    "print(animals)"
   ]
  },
  {
   "cell_type": "code",
   "execution_count": null,
   "metadata": {},
   "outputs": [],
   "source": [
    "#list.pop(index) : remove an item from the list at the index\n",
    "animals.pop(1)\n",
    "print(animals)"
   ]
  },
  {
   "cell_type": "code",
   "execution_count": null,
   "metadata": {},
   "outputs": [],
   "source": [
    "# enumerate\n",
    "# enumerate(list) : return the index and the item in the list\n",
    "animals = ['cat', 'dog', 'monkey']\n",
    "for i, animal in enumerate(animals):\n",
    "    print(i, animal)"
   ]
  },
  {
   "cell_type": "code",
   "execution_count": null,
   "metadata": {},
   "outputs": [],
   "source": [
    "# list sort\n",
    "list1 = [3, 2, 1]\n",
    "list1.sort()\n",
    "print(list1)"
   ]
  },
  {
   "cell_type": "code",
   "execution_count": null,
   "metadata": {},
   "outputs": [],
   "source": [
    "# list reverse\n",
    "list1 = [1, 2, 3]\n",
    "list1.reverse()\n",
    "print(list1)"
   ]
  },
  {
   "cell_type": "code",
   "execution_count": null,
   "metadata": {},
   "outputs": [],
   "source": [
    "# list comprehension\n",
    "squares = [x*2 for x in range(10)]\n",
    "print(squares)"
   ]
  },
  {
   "cell_type": "markdown",
   "metadata": {},
   "source": [
    "## 2.3.3 List slicing and indexing\n",
    "List indexing returns the index of the specified elemnt in the list"
   ]
  },
  {
   "cell_type": "code",
   "execution_count": null,
   "metadata": {},
   "outputs": [],
   "source": [
    "l = [[1, 2, 3], [4, 5, 6], [7, 8, 9]]\n",
    "l[0][1]"
   ]
  },
  {
   "cell_type": "markdown",
   "metadata": {},
   "source": [
    "## 2.3.3 List slicing and indexing\n",
    "List indexing returns the index of the specified element in the list"
   ]
  },
  {
   "cell_type": "code",
   "execution_count": 1,
   "metadata": {},
   "outputs": [
    {
     "data": {
      "text/plain": [
       "4"
      ]
     },
     "execution_count": 1,
     "metadata": {},
     "output_type": "execute_result"
    }
   ],
   "source": [
    "l = [[1,3], [4,5]]\n",
    "l[1][0]"
   ]
  },
  {
   "cell_type": "markdown",
   "metadata": {},
   "source": [
    "List slicing returns a slice object that can be used to slice strings, list tuple, etc.\n",
    "\n",
    "list[start:end:step]\n",
    "\n",
    "*   start: where slicing starts; Default to none if not provided\n",
    "*   end: where slicing stops;\n",
    "*   step: determines the incremetn between each index for slicing. Defaults to None if not provided."
   ]
  },
  {
   "cell_type": "code",
   "execution_count": null,
   "metadata": {},
   "outputs": [],
   "source": [
    "l = [0, 1, 2, 3, 4, 5]\n",
    "l[::2]"
   ]
  },
  {
   "cell_type": "code",
   "execution_count": null,
   "metadata": {},
   "outputs": [],
   "source": [
    "l[1:4:2]"
   ]
  },
  {
   "cell_type": "markdown",
   "metadata": {},
   "source": [
    "## 2.4 Tuples\n",
    "Tuples are a inmutble sequences,typically used to store collections of hetereogeous data (such as the 2 tuples produced by the enumerate() built-in). Tuples are also used for cases where an inmutable sequence of homogeneous data is needed (such as allowing storage in a set or dict instance)\n",
    "\n",
    "(obj1, obj2 . . .)"
   ]
  },
  {
   "cell_type": "code",
   "execution_count": null,
   "metadata": {},
   "outputs": [],
   "source": [
    "# create a tuple \n",
    "t = (1, [2, 3], \"python\")\n",
    "print(t)\n",
    "print(type(t))"
   ]
  },
  {
   "cell_type": "code",
   "execution_count": 4,
   "metadata": {},
   "outputs": [
    {
     "name": "stdout",
     "output_type": "stream",
     "text": [
      "t1 <class 'int'>\n",
      "t2 <class 'tuple'>\n"
     ]
    }
   ],
   "source": [
    "# create a tuple with an item \n",
    "t1 = (5)\n",
    "t2 = (5,) # \",\" is needed to create a tuple with an item\n",
    "print(\"t1\",type(t1))\n",
    "print(\"t2\",type(t2))"
   ]
  },
  {
   "cell_type": "code",
   "execution_count": 7,
   "metadata": {},
   "outputs": [
    {
     "name": "stdout",
     "output_type": "stream",
     "text": [
      "2\n"
     ]
    }
   ],
   "source": [
    "# tuple indexing \n",
    "t = (1, 2, 3)\n",
    "print(t[1])"
   ]
  },
  {
   "cell_type": "code",
   "execution_count": null,
   "metadata": {},
   "outputs": [],
   "source": [
    "# Tuple unchangable \n",
    "t[1] = 0"
   ]
  },
  {
   "cell_type": "markdown",
   "metadata": {},
   "source": [
    "## 2.5 Dictionaries\n",
    "A dictionary is an unordered collection of items. Each item of a dictionary has a key:value pair. The keys within one dictionary are unique. If you store data using a key is already in use, the old value associated with that key is fortgotten. Extrating a value using a non-existent key will key cause error \n",
    "\n",
    "Dictionaries are unordered, changable and does not allow duplicates. A pair of braces creates an empty dictionary:{},\n",
    "\n",
    "{key:value}"
   ]
  },
  {
   "cell_type": "code",
   "execution_count": null,
   "metadata": {},
   "outputs": [],
   "source": [
    "# create a dictionary in three different ways \n",
    "x = {'food' : 'Spam', 'quantity' : 4, 'color' : 'pink'}\n",
    "x2 = dict(food = 'Spam', quantity = 4, color = 'pink')\n",
    "x3 = dict([('food', 'Spam'), ('quantity', 4), ('color', 'pink')])\n",
    "print(x)\n",
    "print(x2)\n",
    "print(x3)"
   ]
  },
  {
   "cell_type": "markdown",
   "metadata": {},
   "source": [
    "### 2.5.1 Access items in dictionaries"
   ]
  },
  {
   "cell_type": "code",
   "execution_count": null,
   "metadata": {},
   "outputs": [],
   "source": [
    "#extract values in a dictionary\n",
    "print(x['food'])"
   ]
  },
  {
   "cell_type": "code",
   "execution_count": null,
   "metadata": {},
   "outputs": [],
   "source": [
    "print(x['a']) #report an error when the key is not in the dictionary"
   ]
  },
  {
   "cell_type": "code",
   "execution_count": null,
   "metadata": {},
   "outputs": [],
   "source": [
    "#extract values by get\n",
    "print(x.get('food'))\n",
    "print(x.get('a')) #return None when the key is not in the dictionary\n",
    "print(x.get('a', 'cannot find a')) # return 'default' when the key is not in the dictionary"
   ]
  },
  {
   "cell_type": "code",
   "execution_count": null,
   "metadata": {},
   "outputs": [],
   "source": [
    "# extract all keys in a dictionary\n",
    "print(x.keys())\n",
    "# exteract all values in a dictionary\n",
    "print(x.values())\n",
    "# extract all key:value pairs\n",
    "print(x.items())"
   ]
  },
  {
   "cell_type": "code",
   "execution_count": null,
   "metadata": {},
   "outputs": [],
   "source": [
    "# insert an item to a dictionary\n",
    "x[\"x_key\"] = \"x_val\"\n",
    "print(x)"
   ]
  },
  {
   "cell_type": "code",
   "execution_count": null,
   "metadata": {},
   "outputs": [],
   "source": [
    "# change an item in a dictionary\n",
    "x[\"x_key\"] = \"new_x_val\"\n",
    "print(x)"
   ]
  },
  {
   "cell_type": "code",
   "execution_count": null,
   "metadata": {},
   "outputs": [],
   "source": [
    "# Change an item in a dictionary\n",
    "x[\"x_key\"] = 0\n",
    "print(x)"
   ]
  },
  {
   "cell_type": "markdown",
   "metadata": {},
   "source": [
    "## 2.6 Sets\n",
    "A set is an unordered collection with no duplicate elements.\n",
    "Set objects also support mathematical operations like union, intersection, difference, and symmetric difference.\n",
    "Curly braces ir the set() function can be used to create sets Note: to create an empty set you have to use set(), not {}; the latter creates an empty directionary\n",
    "\n",
    "{obj1, obj2, ....}\n"
   ]
  },
  {
   "cell_type": "code",
   "execution_count": null,
   "metadata": {},
   "outputs": [],
   "source": [
    "sample_set = {'Prince', 'Techs'}\n",
    "sample_set2 = set(['Prince', 'Techs'])\n",
    "print(sample_set)\n",
    "print(sample_set2)"
   ]
  },
  {
   "cell_type": "code",
   "execution_count": null,
   "metadata": {},
   "outputs": [],
   "source": [
    "print('Data' in sample_set) # the in keyword is used to check if an item is in a sequence\n",
    "print('Techs' in sample_set) "
   ]
  },
  {
   "cell_type": "code",
   "execution_count": null,
   "metadata": {},
   "outputs": [],
   "source": [
    "# set add (obj): adds a given element to a set. If the element is already present, it doesn't add any element.\n",
    "sample_set.add('Data')\n",
    "print(sample_set)\n",
    "print(sample_set)"
   ]
  },
  {
   "cell_type": "code",
   "execution_count": null,
   "metadata": {},
   "outputs": [],
   "source": [
    "list2 = [1,3,1,5,3]\n",
    "print(list2(set(list2))) #set has no duplicate elements, this can be used to remove duplicates from a list"
   ]
  },
  {
   "cell_type": "code",
   "execution_count": null,
   "metadata": {},
   "outputs": [],
   "source": [
    "sample_set = frozenset(sample_set) #unchangeable set\n",
    "sample_set.add('cat') #report an error"
   ]
  },
  {
   "cell_type": "markdown",
   "metadata": {},
   "source": [
    "## 2.7 Operations on Data\n",
    "### 2.7.1 Deep copy and Shadow copy\n",
    "Assignament statments in Python do not copy objects, they create bindings between a trarget and an object. For collections that are mutbale or contain mutable items, a copy is sometimes needed so one can change one copy without changing the other.\n",
    "\n",
    "copy.copy(x)\n",
    "*   Return a shallow copy od x.\n",
    "copy.deepcopy(x[,memo])\n",
    "* Return a deep copy of x.\n",
    "\n",
    "The difference between shadow and deep copying is only relevant for compound objects (objects thjat contain other objects, like lists or class instances):\n",
    "\n",
    "* A shallow copy constructs a new compund object and then (to the extent possible) inserts references into it to the objects found in the original.\n",
    "* A deep copy constructs a new compound object and then, recursively, inserts copies into it of the objects found in the original.\n"
   ]
  },
  {
   "cell_type": "code",
   "execution_count": 4,
   "metadata": {},
   "outputs": [
    {
     "name": "stdout",
     "output_type": "stream",
     "text": [
      "[99, 2, 3, [4, 5]]\n"
     ]
    }
   ],
   "source": [
    "# data assignment\n",
    "a = [1, 2, 3, [4,5]]\n",
    "b = a # assign a to b\n",
    "b[0] = 99\n",
    "print(a)"
   ]
  },
  {
   "cell_type": "code",
   "execution_count": null,
   "metadata": {},
   "outputs": [],
   "source": [
    "# data assignment\n",
    "a = [1,2,3,[4,5]]\n",
    "b = a.copy() # shallow copy\n",
    "b[0] = 99\n",
    "print(a)"
   ]
  },
  {
   "cell_type": "code",
   "execution_count": 5,
   "metadata": {},
   "outputs": [
    {
     "name": "stdout",
     "output_type": "stream",
     "text": [
      "[99, 2, 3, [99, 5]]\n"
     ]
    }
   ],
   "source": [
    "b[3][0] = 99\n",
    "print(a)"
   ]
  },
  {
   "cell_type": "code",
   "execution_count": null,
   "metadata": {},
   "outputs": [],
   "source": [
    "import copy\n",
    "#data assignment\n",
    "a = [1,2,3,[4,5]]\n",
    "b = copy.deepcopy(a) # deep copy\n",
    "b[3][0] = 99\n",
    "print(a)"
   ]
  },
  {
   "cell_type": "code",
   "execution_count": null,
   "metadata": {},
   "outputs": [],
   "source": [
    "# assignment operators\n",
    "a = 5\n",
    "a += 1\n",
    "print(\"a += 1\", a)\n",
    "a -= 1\n",
    "print(\"a -= 1\", a)\n",
    "a *= 2\n",
    "print(\"a *= 2\", a)\n",
    "a /= 2\n",
    "print(\"a /= 2\", a)"
   ]
  },
  {
   "cell_type": "code",
   "execution_count": null,
   "metadata": {},
   "outputs": [],
   "source": [
    "# comparasion operators\n",
    "print(1 >= 1)\n",
    "print(1 <= 2)\n",
    "print(1 != 1)\n",
    "print(1 == 1)"
   ]
  },
  {
   "cell_type": "code",
   "execution_count": null,
   "metadata": {},
   "outputs": [],
   "source": [
    "# logical operators\n",
    "print(True and False)\n",
    "print(True or False)\n",
    "print(not True)"
   ]
  },
  {
   "cell_type": "code",
   "execution_count": null,
   "metadata": {},
   "outputs": [],
   "source": [
    "# membership operators\n",
    "print(1 in [1,2,3])\n",
    "print(1 not in [1,2,3])"
   ]
  }
 ],
 "metadata": {
  "kernelspec": {
   "display_name": "Python 3",
   "language": "python",
   "name": "python3"
  },
  "language_info": {
   "codemirror_mode": {
    "name": "ipython",
    "version": 3
   },
   "file_extension": ".py",
   "mimetype": "text/x-python",
   "name": "python",
   "nbconvert_exporter": "python",
   "pygments_lexer": "ipython3",
   "version": "3.13.1"
  }
 },
 "nbformat": 4,
 "nbformat_minor": 2
}
