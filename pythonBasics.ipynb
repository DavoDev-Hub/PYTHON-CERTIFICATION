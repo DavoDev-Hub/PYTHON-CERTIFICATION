{
 "cells": [
  {
   "cell_type": "markdown",
   "id": "fedb4f45-6745-4635-bb4e-ae276b29884b",
   "metadata": {},
   "source": [
    "# 1. Python Basic\n",
    "## 1.1 Hello World.\n",
    "\n",
    "   We will use a the print() function to print our first python program: hello world\n",
    "   Here, 'hello world' is a string, a ssequence of characters in Python, strings are enclosed in single quotes, double quotes, or\n",
    "   triple quotes\n",
    "     "
   ]
  },
  {
   "cell_type": "code",
   "execution_count": 1,
   "id": "d27020de-8903-48b6-a954-abafd6e56239",
   "metadata": {},
   "outputs": [
    {
     "name": "stdout",
     "output_type": "stream",
     "text": [
      "hello world\n",
      "hello world\n",
      "hello\n",
      "world\n"
     ]
    }
   ],
   "source": [
    "print('hello world')\n",
    "print('hello world')\n",
    "#triple quotes allows the string to span multiple lines\n",
    "print(\"\"\"hello\n",
    "world\"\"\")"
   ]
  },
  {
   "cell_type": "markdown",
   "id": "40c717c5-4606-463a-85cf-d254fb45464d",
   "metadata": {},
   "source": [
    "# 1.2 Comments\n",
    "Comments are very important while writing a program. They explain the codes in lines for programmers to better understand a program.\n",
    "In Python, we use the hash (#) symbol to start writing a comment. Python Interpreter ignores comments during execution.\n",
    "### for one line\n",
    "We can have comments that extend up to multiple lines. One way is to use the hash (#) symbol at the beginning of each line.\n",
    "Another way of doing this is to use triple quotes, either ''' or \"\"\".\n",
    "''' or \"\"\" for multiple lines"
   ]
  },
  {
   "cell_type": "markdown",
   "id": "1b8b78f2-87a9-4000-8d4e-f56fd0035c4a",
   "metadata": {},
   "source": [
    "print(\"hello world\")  # this is a comment"
   ]
  },
  {
   "cell_type": "code",
   "execution_count": 2,
   "id": "d8f2142e-25d6-4693-8a9f-8bb8e9bebcd2",
   "metadata": {},
   "outputs": [
    {
     "name": "stdout",
     "output_type": "stream",
     "text": [
      "hello world\n"
     ]
    }
   ],
   "source": [
    "\"\"\"\n",
    "triple quotes for\n",
    "multiple\n",
    "lines\n",
    "\"\"\"\n",
    "print(\"hello world\")"
   ]
  },
  {
   "cell_type": "markdown",
   "id": "70043a7c-a2a8-42d3-89a8-d8e8c62f32ba",
   "metadata": {},
   "source": [
    "# 1.3 Packages and modules\n",
    "Python has packages and modules. A module is a file containing Python code. A package is like a directory that contains sub-packages and modules. A library contains multiple modules.\n",
    "As our application program grows larger in size with a lot of modules, we place similar modules in one package and different modules in different packages. This makes a project (program) easy to manage and conceptually clear.\n",
    "Python package can have sub-packages and modules.\n",
    "To use these packages and modules in Python:\n",
    "* import\n",
    "* from ... import ..."
   ]
  },
  {
   "cell_type": "code",
   "execution_count": 3,
   "id": "b840df77-38e2-442f-8ab0-0604f50cbd6a",
   "metadata": {},
   "outputs": [
    {
     "data": {
      "text/plain": [
       "'c:\\\\Users\\\\PC\\\\Desktop\\\\PYTHON CERTIFICATION'"
      ]
     },
     "execution_count": 3,
     "metadata": {},
     "output_type": "execute_result"
    }
   ],
   "source": [
    "import os #import os module\n",
    "os.getcwd() #get the current working directory"
   ]
  },
  {
   "cell_type": "code",
   "execution_count": 4,
   "id": "54798b5a",
   "metadata": {},
   "outputs": [
    {
     "data": {
      "text/plain": [
       "'c:\\\\Users\\\\PC\\\\Desktop\\\\PYTHON CERTIFICATION'"
      ]
     },
     "execution_count": 4,
     "metadata": {},
     "output_type": "execute_result"
    }
   ],
   "source": [
    "from os import getcwd #import getcwd method from os module\n",
    "getcwd()"
   ]
  },
  {
   "cell_type": "markdown",
   "id": "e0819286",
   "metadata": {},
   "source": [
    "If a package name is too complex to call, you can give it an  alias"
   ]
  },
  {
   "cell_type": "code",
   "execution_count": 5,
   "id": "5308fb07",
   "metadata": {},
   "outputs": [
    {
     "data": {
      "text/plain": [
       "'Windows'"
      ]
     },
     "execution_count": 5,
     "metadata": {},
     "output_type": "execute_result"
    }
   ],
   "source": [
    "import platform\n",
    "platform.system()"
   ]
  },
  {
   "cell_type": "code",
   "execution_count": 6,
   "id": "e8920ed7",
   "metadata": {},
   "outputs": [
    {
     "data": {
      "text/plain": [
       "'Windows-11-10.0.22631-SP0'"
      ]
     },
     "execution_count": 6,
     "metadata": {},
     "output_type": "execute_result"
    }
   ],
   "source": [
    "import platform as pf\n",
    "pf.platform()"
   ]
  },
  {
   "cell_type": "markdown",
   "id": "aec92016",
   "metadata": {},
   "source": [
    "# 1.4 Variables\n",
    "Variabnles are containers for storing data values. A variabnle is named location used to store data in the memory\n",
    "Declaring and assigning value to a variable:"
   ]
  },
  {
   "cell_type": "code",
   "execution_count": 7,
   "id": "d7b2505e",
   "metadata": {},
   "outputs": [
    {
     "name": "stdout",
     "output_type": "stream",
     "text": [
      "1\n"
     ]
    }
   ],
   "source": [
    "a = 1\n",
    "print(a)"
   ]
  },
  {
   "cell_type": "markdown",
   "id": "10c44cf5",
   "metadata": {},
   "source": [
    "The value of a variable can be changed later in the program "
   ]
  },
  {
   "cell_type": "code",
   "execution_count": 8,
   "id": "fa03ccb6",
   "metadata": {},
   "outputs": [
    {
     "name": "stdout",
     "output_type": "stream",
     "text": [
      "2\n"
     ]
    }
   ],
   "source": [
    "a = 2 \n",
    "print(a)"
   ]
  },
  {
   "cell_type": "markdown",
   "id": "ebb50cb9",
   "metadata": {},
   "source": [
    "# 1.5 Naming rules and keywords\n",
    "## 1.5.1 Naming rules\n",
    "\n",
    "Variable names should have a combination of letters in lowercase (a-z) or uppercase (A - Z) or digits (0 - 9 ) or an underscore()"
   ]
  },
  {
   "cell_type": "code",
   "execution_count": 9,
   "id": "7f8ee440",
   "metadata": {},
   "outputs": [],
   "source": [
    "aA9_ = 1"
   ]
  },
  {
   "cell_type": "markdown",
   "id": "530f84d4",
   "metadata": {},
   "source": [
    "\n",
    "create a name that makes sense"
   ]
  },
  {
   "cell_type": "code",
   "execution_count": 10,
   "id": "f1bf9c82",
   "metadata": {},
   "outputs": [],
   "source": [
    "wasd = 100\n",
    "price = 100"
   ]
  },
  {
   "cell_type": "markdown",
   "id": "f788585f",
   "metadata": {},
   "source": [
    "If you want to create a variable name havinkg two words, use underscore to separate them"
   ]
  },
  {
   "cell_type": "code",
   "execution_count": 11,
   "id": "f5e2a689",
   "metadata": {},
   "outputs": [],
   "source": [
    "number_of_cases = 6"
   ]
  },
  {
   "cell_type": "markdown",
   "id": "c042266b",
   "metadata": {},
   "source": [
    "Don't start a variable name with a digit"
   ]
  },
  {
   "cell_type": "code",
   "execution_count": 12,
   "id": "9055a6f2",
   "metadata": {},
   "outputs": [
    {
     "ename": "SyntaxError",
     "evalue": "invalid decimal literal (1311808018.py, line 1)",
     "output_type": "error",
     "traceback": [
      "\u001b[1;36m  Cell \u001b[1;32mIn[12], line 1\u001b[1;36m\u001b[0m\n\u001b[1;33m    1a = 1 # incorrect variable names\u001b[0m\n\u001b[1;37m    ^\u001b[0m\n\u001b[1;31mSyntaxError\u001b[0m\u001b[1;31m:\u001b[0m invalid decimal literal\n"
     ]
    }
   ],
   "source": [
    "1a = 1 # incorrect variable names"
   ]
  },
  {
   "cell_type": "markdown",
   "id": "ca0961e5",
   "metadata": {},
   "source": [
    "## 1.5.2 Keywords\n",
    "Keywords are the reserved words in Python. They cannot be used as ordinary identifiers and must be spelled exactly.\n",
    "There are 35 keywords in Python 3.7"
   ]
  },
  {
   "cell_type": "code",
   "execution_count": null,
   "id": "0f4c7f2f",
   "metadata": {},
   "outputs": [],
   "source": [
    "def = 1 # when a variable name is keyword"
   ]
  },
  {
   "cell_type": "code",
   "execution_count": null,
   "id": "5ed71c89",
   "metadata": {},
   "outputs": [],
   "source": [
    "import keyword\n",
    "keyword.kwlist"
   ]
  },
  {
   "cell_type": "code",
   "execution_count": null,
   "id": "662ff5ee",
   "metadata": {},
   "outputs": [],
   "source": [
    "help(\"keywords\")"
   ]
  },
  {
   "cell_type": "code",
   "execution_count": null,
   "id": "00402a6d",
   "metadata": {},
   "outputs": [],
   "source": [
    "# 1.6 Switching values\n",
    "a= 1\n",
    "b = 2\n",
    "print(a)\n",
    "print(b)"
   ]
  },
  {
   "cell_type": "markdown",
   "id": "86cda98f",
   "metadata": {},
   "source": [
    "## 1.7 Excution Order in Python\n",
    "From top to bottom"
   ]
  },
  {
   "cell_type": "code",
   "execution_count": null,
   "id": "2b021bec",
   "metadata": {},
   "outputs": [],
   "source": [
    "x = 0\n",
    "print(x+y)\n",
    "y=1"
   ]
  },
  {
   "cell_type": "markdown",
   "id": "649665e2",
   "metadata": {},
   "source": [
    "## 1.8 Indentation\n",
    "A code block (body of a function, loop, etc) starts with inentation and ends with the first unindented line\n",
    "The number of space to be indented is up to you, but it must be consistent troughout that block\n",
    "Indentation makes Python code look a neat and clean. This also makes Python code look similar and consistent."
   ]
  },
  {
   "cell_type": "code",
   "execution_count": null,
   "id": "199f6260",
   "metadata": {},
   "outputs": [],
   "source": [
    "def func1():\n",
    "    a = 1\n",
    "    b = 1\n",
    "\n",
    "def func2():\n",
    "    a = 2\n",
    "    b = 2"
   ]
  },
  {
   "cell_type": "markdown",
   "id": "6a67e555",
   "metadata": {},
   "source": [
    "## 1.9 Global Variables and Local Variables\n",
    "Global variables are variables declared in global scope (code block without indentation).\n",
    "Local variables are variables declared in local scope (code block with indentation)"
   ]
  },
  {
   "cell_type": "code",
   "execution_count": null,
   "id": "9d4ed396",
   "metadata": {},
   "outputs": [],
   "source": [
    "a = 1 # Global Variables\n",
    "\n",
    "def func(): # define a function\n",
    "    f = 2 # Local Variables\n",
    "\n",
    "c = 3\n",
    "print(a+c)"
   ]
  },
  {
   "cell_type": "code",
   "execution_count": null,
   "id": "c85474a9",
   "metadata": {},
   "outputs": [],
   "source": [
    "print(a + f)"
   ]
  },
  {
   "cell_type": "markdown",
   "id": "a1e483af",
   "metadata": {},
   "source": [
    "## 1.10 Standart I/O\n",
    "To read from standart input, use input() function.\n",
    "To write to standard output, use print() function\n"
   ]
  },
  {
   "cell_type": "code",
   "execution_count": null,
   "id": "3d1547b7",
   "metadata": {},
   "outputs": [],
   "source": [
    "s = input(\"input: \")\n",
    "print(s)"
   ]
  },
  {
   "cell_type": "markdown",
   "id": "b56c4402",
   "metadata": {},
   "source": [
    "## 1.11 Python Basic Functions\n",
    "\n",
    "### 1.11.1 help() function\n",
    "The python hekp function is used to display the dopcumentation of modules, functions, classes, keywords, etc."
   ]
  },
  {
   "cell_type": "code",
   "execution_count": 13,
   "id": "0712dd47",
   "metadata": {},
   "outputs": [
    {
     "name": "stdout",
     "output_type": "stream",
     "text": [
      "Help on built-in function print in module builtins:\n",
      "\n",
      "print(*args, sep=' ', end='\\n', file=None, flush=False)\n",
      "    Prints the values to a stream, or to sys.stdout by default.\n",
      "\n",
      "    sep\n",
      "      string inserted between values, default a space.\n",
      "    end\n",
      "      string appended after the last value, default a newline.\n",
      "    file\n",
      "      a file-like object (stream); defaults to the current sys.stdout.\n",
      "    flush\n",
      "      whether to forcibly flush the stream.\n",
      "\n"
     ]
    }
   ],
   "source": [
    "help(print)"
   ]
  },
  {
   "cell_type": "markdown",
   "id": "0a8ef33b",
   "metadata": {},
   "source": [
    "### 1.11.3 type() function\n",
    "type function return the type of an object"
   ]
  },
  {
   "cell_type": "code",
   "execution_count": null,
   "id": "c3640bad",
   "metadata": {},
   "outputs": [],
   "source": [
    "a = 1 \n",
    "type(a)"
   ]
  },
  {
   "cell_type": "markdown",
   "id": "d82f416a",
   "metadata": {},
   "source": [
    "### 1.11.4 del() function\n"
   ]
  },
  {
   "cell_type": "markdown",
   "id": "097be2f6",
   "metadata": {},
   "source": [
    "del function deletes an object"
   ]
  },
  {
   "cell_type": "code",
   "execution_count": null,
   "id": "4f83db52",
   "metadata": {},
   "outputs": [],
   "source": [
    "a = 1\n",
    "del(a)\n",
    "print(a)"
   ]
  },
  {
   "cell_type": "markdown",
   "id": "b1bd1a3f",
   "metadata": {},
   "source": [
    "### 1.11.15 len() function\n",
    "len function returns the length (the number of items) of an object"
   ]
  },
  {
   "cell_type": "code",
   "execution_count": null,
   "id": "4c080880",
   "metadata": {},
   "outputs": [],
   "source": [
    "len(\"Hello\")"
   ]
  },
  {
   "cell_type": "markdown",
   "id": "de0b5b74",
   "metadata": {},
   "source": []
  }
 ],
 "metadata": {
  "kernelspec": {
   "display_name": "Python 3",
   "language": "python",
   "name": "python3"
  },
  "language_info": {
   "codemirror_mode": {
    "name": "ipython",
    "version": 3
   },
   "file_extension": ".py",
   "mimetype": "text/x-python",
   "name": "python",
   "nbconvert_exporter": "python",
   "pygments_lexer": "ipython3",
   "version": "3.13.1"
  }
 },
 "nbformat": 4,
 "nbformat_minor": 5
}
