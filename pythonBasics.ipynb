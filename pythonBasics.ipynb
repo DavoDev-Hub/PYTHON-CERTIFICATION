{
 "cells": [
  {
   "cell_type": "markdown",
   "id": "fedb4f45-6745-4635-bb4e-ae276b29884b",
   "metadata": {},
   "source": [
    "# 1. Python Basic\n",
    "## 1.1 Hello World.\n",
    "\n",
    "   We will use a the print() function to print our first python program: hello world\n",
    "   Here, 'hello world' is a string, a ssequence of characters in Python, strings are enclosed in single quotes, double quotes, or\n",
    "   triple quotes\n",
    "     "
   ]
  },
  {
   "cell_type": "code",
   "execution_count": 4,
   "id": "d27020de-8903-48b6-a954-abafd6e56239",
   "metadata": {},
   "outputs": [
    {
     "name": "stdout",
     "output_type": "stream",
     "text": [
      "hello world\n",
      "hello world\n",
      "hello\n",
      "world\n"
     ]
    }
   ],
   "source": [
    "print('hello world')\n",
    "print('hello world')\n",
    "#triple quotes allows the string to span multiple lines\n",
    "print(\"\"\"hello\n",
    "world\"\"\")"
   ]
  },
  {
   "cell_type": "markdown",
   "id": "40c717c5-4606-463a-85cf-d254fb45464d",
   "metadata": {},
   "source": [
    "# 1.2 Comments\n",
    "Comments are very important while writing a program. They explain the codes in lines for programmers to better understand a program.\n",
    "In Python, we use the hash (#) symbol to start writing a comment. Python Interpreter ignores comments during execution.\n",
    "### for one line\n",
    "We can have comments that extend up to multiple lines. One way is to use the hash (#) symbol at the beginning of each line.\n",
    "Another way of doing this is to use triple quotes, either ''' or \"\"\".\n",
    "''' or \"\"\" for multiple lines"
   ]
  },
  {
   "cell_type": "markdown",
   "id": "1b8b78f2-87a9-4000-8d4e-f56fd0035c4a",
   "metadata": {},
   "source": [
    "print(\"hello world\")  # this is a comment"
   ]
  },
  {
   "cell_type": "code",
   "execution_count": 5,
   "id": "d8f2142e-25d6-4693-8a9f-8bb8e9bebcd2",
   "metadata": {},
   "outputs": [
    {
     "name": "stdout",
     "output_type": "stream",
     "text": [
      "hello world\n"
     ]
    }
   ],
   "source": [
    "\"\"\"\n",
    "triple quotes for\n",
    "multiple\n",
    "lines\n",
    "\"\"\"\n",
    "print(\"hello world\")"
   ]
  },
  {
   "cell_type": "markdown",
   "id": "70043a7c-a2a8-42d3-89a8-d8e8c62f32ba",
   "metadata": {},
   "source": [
    "# 1.3 Packages and modules\n",
    "Python has packages and modules. A module is a file containing Python code. A package is like a directory that contains sub-packages and modules. A library contains multiple modules.\n",
    "As our application program grows larger in size with a lot of modules, we place similar modules in one package and different modules in different packages. This makes a project (program) easy to manage and conceptually clear.\n",
    "Python package can have sub-packages and modules.\n",
    "To use these packages and modules in Python:\n",
    "* import\n",
    "* from ... import ..."
   ]
  },
  {
   "cell_type": "code",
   "execution_count": 6,
   "id": "b840df77-38e2-442f-8ab0-0604f50cbd6a",
   "metadata": {},
   "outputs": [
    {
     "data": {
      "text/plain": [
       "'c:\\\\Users\\\\PC\\\\Desktop\\\\PYTHON CERTIFICATION'"
      ]
     },
     "execution_count": 6,
     "metadata": {},
     "output_type": "execute_result"
    }
   ],
   "source": [
    "import os #import os module\n",
    "os.getcwd() #get the current working directory"
   ]
  },
  {
   "cell_type": "code",
   "execution_count": 7,
   "id": "54798b5a",
   "metadata": {},
   "outputs": [
    {
     "data": {
      "text/plain": [
       "'c:\\\\Users\\\\PC\\\\Desktop\\\\PYTHON CERTIFICATION'"
      ]
     },
     "execution_count": 7,
     "metadata": {},
     "output_type": "execute_result"
    }
   ],
   "source": [
    "from os import getcwd #import getcwd method from os module\n",
    "getcwd()"
   ]
  },
  {
   "cell_type": "markdown",
   "id": "e0819286",
   "metadata": {},
   "source": [
    "If a package name is too complex to call, you can give it an  alias"
   ]
  },
  {
   "cell_type": "code",
   "execution_count": 8,
   "id": "5308fb07",
   "metadata": {},
   "outputs": [
    {
     "data": {
      "text/plain": [
       "'Windows'"
      ]
     },
     "execution_count": 8,
     "metadata": {},
     "output_type": "execute_result"
    }
   ],
   "source": [
    "import platform\n",
    "platform.system()"
   ]
  },
  {
   "cell_type": "code",
   "execution_count": 9,
   "id": "e8920ed7",
   "metadata": {},
   "outputs": [
    {
     "data": {
      "text/plain": [
       "'Windows-11-10.0.22631-SP0'"
      ]
     },
     "execution_count": 9,
     "metadata": {},
     "output_type": "execute_result"
    }
   ],
   "source": [
    "import platform as pf\n",
    "pf.platform()"
   ]
  },
  {
   "cell_type": "markdown",
   "id": "aec92016",
   "metadata": {},
   "source": [
    "# 1.4 Variables\n",
    "Variabnles are containers for storing data values. A variabnle is named location used to store data in the memory\n",
    "Declaring and assigning value to a variable:"
   ]
  },
  {
   "cell_type": "code",
   "execution_count": 10,
   "id": "d7b2505e",
   "metadata": {},
   "outputs": [
    {
     "name": "stdout",
     "output_type": "stream",
     "text": [
      "1\n"
     ]
    }
   ],
   "source": [
    "a = 1\n",
    "print(a)"
   ]
  },
  {
   "cell_type": "markdown",
   "id": "10c44cf5",
   "metadata": {},
   "source": [
    "The value of a variable can be changed later in the program "
   ]
  },
  {
   "cell_type": "code",
   "execution_count": 11,
   "id": "fa03ccb6",
   "metadata": {},
   "outputs": [
    {
     "name": "stdout",
     "output_type": "stream",
     "text": [
      "2\n"
     ]
    }
   ],
   "source": [
    "a = 2 \n",
    "print(a)"
   ]
  },
  {
   "cell_type": "markdown",
   "id": "ebb50cb9",
   "metadata": {},
   "source": [
    "# 1.5 Naming rules and keywords\n",
    "## 1.5.1 Naming rules\n",
    "\n",
    "Variable names should have a combination of letters in lowercase (a-z) or uppercase (A - Z) or digits (0 - 9 ) or an underscore()"
   ]
  },
  {
   "cell_type": "code",
   "execution_count": 12,
   "id": "7f8ee440",
   "metadata": {},
   "outputs": [],
   "source": [
    "aA9_ = 1"
   ]
  },
  {
   "cell_type": "markdown",
   "id": "530f84d4",
   "metadata": {},
   "source": [
    "\n",
    "create a name that makes sense"
   ]
  },
  {
   "cell_type": "code",
   "execution_count": null,
   "id": "f1bf9c82",
   "metadata": {},
   "outputs": [],
   "source": [
    "wasd = 100\n",
    "price = 100"
   ]
  },
  {
   "cell_type": "markdown",
   "id": "f788585f",
   "metadata": {},
   "source": [
    "If you want to create a variable name havinkg two words, use underscore to separate them"
   ]
  },
  {
   "cell_type": "code",
   "execution_count": null,
   "id": "f5e2a689",
   "metadata": {},
   "outputs": [],
   "source": [
    "number_of_cases = 6"
   ]
  },
  {
   "cell_type": "markdown",
   "id": "c042266b",
   "metadata": {},
   "source": [
    "Don't start a variable name with a digit"
   ]
  },
  {
   "cell_type": "code",
   "execution_count": null,
   "id": "9055a6f2",
   "metadata": {},
   "outputs": [],
   "source": [
    "1a = 1 # incorrect variable names"
   ]
  }
 ],
 "metadata": {
  "kernelspec": {
   "display_name": "Python 3",
   "language": "python",
   "name": "python3"
  },
  "language_info": {
   "codemirror_mode": {
    "name": "ipython",
    "version": 3
   },
   "file_extension": ".py",
   "mimetype": "text/x-python",
   "name": "python",
   "nbconvert_exporter": "python",
   "pygments_lexer": "ipython3",
   "version": "3.13.1"
  }
 },
 "nbformat": 4,
 "nbformat_minor": 5
}
